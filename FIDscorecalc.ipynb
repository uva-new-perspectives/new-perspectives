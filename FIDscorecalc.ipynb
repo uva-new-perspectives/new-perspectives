{
 "cells": [
  {
   "cell_type": "code",
   "execution_count": 1,
   "metadata": {},
   "outputs": [
    {
     "name": "stderr",
     "output_type": "stream",
     "text": [
      "2024-02-08 21:35:49.674660: I tensorflow/core/platform/cpu_feature_guard.cc:182] This TensorFlow binary is optimized to use available CPU instructions in performance-critical operations.\n",
      "To enable the following instructions: SSE4.1 SSE4.2 AVX AVX2 FMA, in other operations, rebuild TensorFlow with the appropriate compiler flags.\n"
     ]
    }
   ],
   "source": [
    "import numpy as np\n",
    "from scipy.linalg import sqrtm\n",
    "from skimage.transform import resize\n",
    "from keras.applications.inception_v3 import InceptionV3, preprocess_input\n",
    "from keras.models import Model\n",
    "# from keras.datasets import cifar10  # Replace with your real and generated data\n",
    "import matplotlib.pyplot as plt\n",
    "from numpy import cov\n",
    "from numpy import trace\n",
    "from numpy import iscomplexobj\n",
    "from numpy import asarray\n",
    "from numpy.random import randint\n",
    "import os\n",
    "import matplotlib.pyplot as plt\n",
    "from skimage.transform import resize\n",
    "\n"
   ]
  },
  {
   "cell_type": "code",
   "execution_count": 7,
   "metadata": {},
   "outputs": [],
   "source": [
    "# Load dataset\n",
    "# Change based on category - Forest/Drought/Melt/Flood\n",
    "output_path = '../DSP/Output/Forest'\n",
    "input_path ='../DSP/Input/'\n",
    "\n",
    "real_data = plt.imread(input_path+'/'+'Forest_rijks.png')\n",
    "generated_data = plt.imread('/Users/jg/Documents/Uni/DSP/Dezgo_AbsoluteReality181_50_forest2.png')"
   ]
  },
  {
   "cell_type": "code",
   "execution_count": 8,
   "metadata": {},
   "outputs": [
    {
     "name": "stdout",
     "output_type": "stream",
     "text": [
      "57/57 [==============================] - 78s 1s/step\n",
      "9/9 [==============================] - 12s 1s/step\n",
      "FID Score: [1.889780246481387]\n"
     ]
    }
   ],
   "source": [
    "\n",
    "\n",
    "def calculate_fid_score(real_data, generated_data):\n",
    "    # Resize images to 299x299 as required by InceptionV3\n",
    "    real_data_resized = np.array([resize(img, (299, 299, 3), mode='reflect', anti_aliasing=True) for img in real_data])\n",
    "    generated_data_resized = np.array([resize(img, (299, 299, 3), mode='reflect', anti_aliasing=True) for img in generated_data])\n",
    "\n",
    "    # Preprocess images for InceptionV3\n",
    "    real_data_preprocessed = preprocess_input(real_data_resized)\n",
    "    generated_data_preprocessed = preprocess_input(generated_data_resized)\n",
    "\n",
    "    # Load InceptionV3 model\n",
    "    model = InceptionV3(weights='imagenet', include_top=False, pooling='avg')\n",
    "\n",
    "    # Get real and generated features\n",
    "    real_features = model.predict(real_data_preprocessed)\n",
    "    generated_features = model.predict(generated_data_preprocessed)\n",
    "\n",
    "    # Calculate mean and covariance matrices for real and generated features\n",
    "    mu_real, sigma_real = np.mean(real_features, axis=0), np.cov(real_features, rowvar=False)\n",
    "    mu_generated, sigma_generated = np.mean(generated_features, axis=0), np.cov(generated_features, rowvar=False)\n",
    "\n",
    "    # Calculate Frechet distance\n",
    "    diff = mu_real - mu_generated\n",
    "    covmean = sqrtm(sigma_real.dot(sigma_generated))\n",
    "\n",
    "    # Return the FID score\n",
    "    fid_score = np.real(diff.dot(diff) + np.trace(sigma_real + sigma_generated - 2 * covmean))\n",
    "    return fid_score\n",
    "\n",
    "fid_score = []\n",
    "fid_score.append(calculate_fid_score(real_data, generated_data))\n",
    "print(f\"FID Score: {fid_score}\")"
   ]
  }
 ],
 "metadata": {
  "kernelspec": {
   "display_name": "Python 3",
   "language": "python",
   "name": "python3"
  },
  "language_info": {
   "codemirror_mode": {
    "name": "ipython",
    "version": 3
   },
   "file_extension": ".py",
   "mimetype": "text/x-python",
   "name": "python",
   "nbconvert_exporter": "python",
   "pygments_lexer": "ipython3",
   "version": "3.11.5"
  }
 },
 "nbformat": 4,
 "nbformat_minor": 2
}
